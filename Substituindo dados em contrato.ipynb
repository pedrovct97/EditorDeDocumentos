{
 "cells": [
  {
   "cell_type": "markdown",
   "metadata": {
    "id": "ebfbrsLV2sQC"
   },
   "source": [
    "<h1>SUBSTITUINDO DADOS (presentes em uma planilha) EM MODELOS DE CONTRATOS</h1>\n",
    "\n",
    "<br>1- Importar base de dados</br>\n",
    "<br>2- Analisar dados</br>\n",
    "<br>3- Verificar dados necessários para edição</br>\n",
    "<br>4- Modificar arquivo Word para cada cliente</br>\n",
    "<br>4- Buscar informações de envio de e-mail para clientes</br>"
   ]
  },
  {
   "cell_type": "code",
   "execution_count": null,
   "metadata": {
    "colab": {
     "base_uri": "https://localhost:8080/",
     "height": 726
    },
    "executionInfo": {
     "elapsed": 30184,
     "status": "ok",
     "timestamp": 1614141167102,
     "user": {
      "displayName": "Pedro Vitor Coelho Teixeira",
      "photoUrl": "https://lh3.googleusercontent.com/a-/AOh14GgS__Zq5ihwz0u3cBnrZbgEOzIOb2G_cJhw5dbw=s64",
      "userId": "06422157707021731626"
     },
     "user_tz": 180
    },
    "id": "ywnySxwK2q5b",
    "outputId": "e14e3331-8995-46c7-b084-5c6ba3bd596b",
    "scrolled": false
   },
   "outputs": [],
   "source": [
    "import pandas as pd\n",
    "# Aqui será carregada sua base de dados do excel\n",
    "arquivo = input('O nome do arquivo tem que ser identico ao escrito no arquivo dentro da pasta\\nInsira o nome da planilha deseja (junto com o formato. Ex.: .xlsx): ')\n",
    "df = pd.read_excel(f'INSERIR LOCAL DO ARQUIVO/{arquivo}')\n",
    "display(df)\n"
   ]
  },
  {
   "cell_type": "code",
   "execution_count": null,
   "metadata": {
    "executionInfo": {
     "elapsed": 27208,
     "status": "ok",
     "timestamp": 1614141167104,
     "user": {
      "displayName": "Pedro Vitor Coelho Teixeira",
      "photoUrl": "https://lh3.googleusercontent.com/a-/AOh14GgS__Zq5ihwz0u3cBnrZbgEOzIOb2G_cJhw5dbw=s64",
      "userId": "06422157707021731626"
     },
     "user_tz": 180
    },
    "id": "Kv7yAGEV4Imt"
   },
   "outputs": [],
   "source": [
    "\n",
    "#Esta seção é só para tratar caracteres unicode dos nomes (como o ' ' ou uma quebra e linha)\n",
    "df['NOME COMPLETO'] = df['NOME COMPLETO'].str.rstrip('\\n') # tirando quebra de linha no nome\n",
    "df['NOME COMPLETO'] = df['NOME COMPLETO'].str.rstrip(' ') # tirando espaço após o nome\n",
    "df['NOME COMPLETO'] = df['NOME COMPLETO'].str.rstrip('  ') # tirando duplo espaço após o nome\n",
    "df['NOME COMPLETO'] = df['NOME COMPLETO'].str.rstrip('\\xa0') # tirando informações problmaticas\n",
    "df['NOME COMPLETO'] = df['NOME COMPLETO'].str.lstrip(' ')\n",
    "df['NOME COMPLETO'] = df['NOME COMPLETO'].apply(lambda x: x.replace('  ',' '))\n",
    "print(pd.array(df['NOME COMPLETO']))"
   ]
  },
  {
   "cell_type": "code",
   "execution_count": null,
   "metadata": {
    "executionInfo": {
     "elapsed": 693,
     "status": "ok",
     "timestamp": 1614131906332,
     "user": {
      "displayName": "Pedro Vitor Coelho Teixeira",
      "photoUrl": "https://lh3.googleusercontent.com/a-/AOh14GgS__Zq5ihwz0u3cBnrZbgEOzIOb2G_cJhw5dbw=s64",
      "userId": "06422157707021731626"
     },
     "user_tz": 180
    },
    "id": "8w_WevHkAQ-C"
   },
   "outputs": [],
   "source": [
    "#Agora importamos a bilbioteca para leitura do arquiv.docx a ser editado\n",
    "from docx import Document\n",
    "from docx.shared import Inches, Cm\n",
    "from docx.enum.text import WD_ALIGN_PARAGRAPH\n",
    "import os\n",
    "\n",
    "# Aqui está a função principal de substituição de informações no modelo\n",
    "# Criação da função com 3 parametros:\n",
    "# 1: 'campo desejado para substituição no arquivo (ex.: namePearson)'\n",
    "# 2:'de qual linha ele vai pegar as informações'\n",
    "# 3: 'Em qual coluna trocar a informação'\n",
    "def substituir(campo,index,coluna):\n",
    "    # Se o campo existir em algum paragrafo do arquivo.docx ele vai realizar a substituição na linha que a pessoa está contida na tabela\n",
    "        if campo in paragrafo.text:\n",
    "            novo_campo = str(df.iloc[index][coluna])\n",
    "            paragrafo.text = paragrafo.text.replace(campo, novo_campo)\n",
    "            \n",
    "from datetime import datetime\n",
    "def data(campo):\n",
    "    if campo in paragrafo.text:\n",
    "        novo_campo = datetime.today().strftime('%d')\n",
    "        paragrafo.text = paragrafo.text.replace(campo, novo_campo)\n",
    "        "
   ]
  },
  {
   "cell_type": "code",
   "execution_count": null,
   "metadata": {
    "scrolled": false
   },
   "outputs": [],
   "source": [
    "# Varíaveis criadas para receber a palavra que será substituida do arquivo.docx (campo)\n",
    "# Obs.: se a palavra escolhida aqui não tiver no documento não haverá substituição\n",
    "\n",
    "# No seu documento .DOCX deverá conter variáveis que deverão ser substituidas: Ex.: nome = 'NOME_COMPLETO'\n",
    "\n",
    "nome = ''\n",
    "nacionalidade = ''\n",
    "estado_civil = ''\n",
    "profissao = ''\n",
    "identidade = ''\n",
    "emissor = ''\n",
    "cpf = ''\n",
    "endereco = ''\n",
    "bairro = ''\n",
    "cidade = ''\n",
    "cep = ''\n",
    "data_atual = ''\n",
    "\n",
    "#pasta = input('Digite exatamento o nome da pasta na qual deseja armazenar seus arquivos criados: ')\n",
    "#nome_documento = input('Lembre-se que o arquivo precisa estar na pasta do programa\\nInsira o nome do arquivo modelo: ')\n",
    "print(len(df.index))\n",
    "\n",
    "# Aqui ele vai ter um loop para ler cada linha da Planilha e realizar a criação dos arquivos desejados com as informações de cada usuário\n",
    "for index in range(len(df.index)):\n",
    "    \n",
    "    # Pega o modelo desejado para realizar as devidas edições\n",
    "    document = Document(r'INSIRA O LOCAL DO ARQUIVO .DOCX/ARQUIVO.docx')\n",
    "    novo_nome = str(df.iloc[index]['NOME COMPLETO']) # armazena o nome completo, contido na linha atual (index), dentro da variável\n",
    "    print(f'{index}-Estou fazendo o documento do: {novo_nome}')\n",
    "    # Vai substituir o campo desejado na linha (index) qe o loop estiver e acrescentar a informação contida na coluna desejada ao documento\n",
    "    for paragrafo in document.paragraphs:        \n",
    "      substituir(nome,index,'NOME COMPLETO')\n",
    "      substituir(nacionalidade,index,'NACIONALIDADE')\n",
    "      substituir(estado_civil,index,'ESTADO CIVIL')\n",
    "      substituir(profissao,index,'PROFISSÃO')  \n",
    "      substituir(identidade,index,'RG')  \n",
    "      substituir(emissor,index,'ORGÃO EMISSOR')\n",
    "      #substituir(emissor,index,'ÓRGÃO EMISSOR')\n",
    "      substituir(cpf,index,'CPF')\n",
    "      substituir(endereco,index,'ENDEREÇO')  \n",
    "      substituir(bairro,index,'BAIRRO')  \n",
    "      substituir(cidade,index,'CIDADE')  \n",
    "      substituir(cep,index,'CEP') \n",
    "      data(data_atual)\n",
    "    \n",
    "    # Será criado um arquivo na Pasta solicitada com o NOME completo do Usuário. Se o arquivo não existir na pasta, ele cria um novo\n",
    "    if not os.path.exists(f'INSIRA O LOCAL DO ARQUIVO .DOCX JUNTO DO NOME DO ARQUIVO.DOCX/modelo{novo_nome}.docx'): \n",
    "        new_docword = os.path.join(f'INSIRA O LOCAL DO ARQUIVO .DOCX JUNTO DO NOME DO ARQUIVO.DOCX/modelo{novo_nome}.docx')\n",
    "        document.save(new_docword) # Salva o documento com o nome = Nome Completo.docx\n",
    "        "
   ]
  }
 ],
 "metadata": {
  "colab": {
   "authorship_tag": "ABX9TyOAul7E/2VzhIpFJdeAO7k3",
   "collapsed_sections": [],
   "mount_file_id": "1gKLpffZEKMIHXEVfFCXsvrQLniSaQ7o6",
   "name": "ProjetoEmail.ipynb",
   "provenance": []
  },
  "kernelspec": {
   "display_name": "Python 3",
   "language": "python",
   "name": "python3"
  },
  "language_info": {
   "codemirror_mode": {
    "name": "ipython",
    "version": 3
   },
   "file_extension": ".py",
   "mimetype": "text/x-python",
   "name": "python",
   "nbconvert_exporter": "python",
   "pygments_lexer": "ipython3",
   "version": "3.8.8"
  }
 },
 "nbformat": 4,
 "nbformat_minor": 1
}
